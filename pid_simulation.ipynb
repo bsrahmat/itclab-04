{
 "cells": [
  {
   "cell_type": "code",
   "execution_count": 1,
   "id": "4d63608e",
   "metadata": {},
   "outputs": [],
   "source": [
    "import numpy as np\n",
    "%matplotlib inline\n",
    "import matplotlib.pyplot as plt\n",
    "from scipy.integrate import odeint\n",
    "import ipywidgets as wg\n",
    "from IPython.display import display"
   ]
  },
  {
   "cell_type": "code",
   "execution_count": 4,
   "id": "7382d42e",
   "metadata": {},
   "outputs": [
    {
     "data": {
      "application/vnd.jupyter.widget-view+json": {
       "model_id": "18f0584c06094245be5bfad0a176d921",
       "version_major": 2,
       "version_minor": 0
      },
      "text/plain": [
       "interactive(children=(FloatSlider(value=0.1, description='Kc', max=1.0, min=-0.2, step=0.05), FloatSlider(valu…"
      ]
     },
     "metadata": {},
     "output_type": "display_data"
    },
    {
     "data": {
      "text/plain": [
       "<function __main__.pidPlot(Kc, tauI, tauD)>"
      ]
     },
     "execution_count": 4,
     "metadata": {},
     "output_type": "execute_result"
    }
   ],
   "source": [
    "n = 100 # time points to plot\n",
    "tf = 20.0 # final time\n",
    "SP_start = 2.0 # time of set point change\n",
    "\n",
    "def process(y,t,u):\n",
    "    Kp = 4.0\n",
    "    taup = 3.0\n",
    "    thetap = 1.0\n",
    "    if t<(thetap+SP_start):\n",
    "        dydt = 0.0  # time delay\n",
    "    else:\n",
    "        dydt = (1.0/taup) * (-y + Kp * u)\n",
    "    return dydt\n",
    "\n",
    "def pidPlot(Kc,tauI,tauD):\n",
    "    t = np.linspace(0,tf,n) # create time vector\n",
    "    P= np.zeros(n)          # initialize proportional term\n",
    "    I = np.zeros(n)         # initialize integral term\n",
    "    D = np.zeros(n)         # initialize derivative term\n",
    "    e = np.zeros(n)         # initialize error\n",
    "    OP = np.zeros(n)        # initialize controller output\n",
    "    PV = np.zeros(n)        # initialize process variable\n",
    "    SP = np.zeros(n)        # initialize setpoint\n",
    "    SP_step = int(SP_start/(tf/(n-1))+1) # setpoint start\n",
    "    SP[0:SP_step] = 0.0     # define setpoint\n",
    "    SP[SP_step:n] = 4.0     # step up\n",
    "    y0 = 0.0                # initial condition\n",
    "    # loop through all time steps\n",
    "    for i in range(1,n):\n",
    "        # simulate process for one time step\n",
    "        ts = [t[i-1],t[i]]         # time interval\n",
    "        y = odeint(process,y0,ts,args=(OP[i-1],))  # compute next step\n",
    "        y0 = y[1]                  # record new initial condition\n",
    "        # calculate new OP with PID\n",
    "        PV[i] = y[1]               # record PV\n",
    "        e[i] = SP[i] - PV[i]       # calculate error = SP - PV\n",
    "        dt = t[i] - t[i-1]         # calculate time step\n",
    "        P[i] = Kc * e[i]           # calculate proportional term\n",
    "        I[i] = I[i-1] + (Kc/tauI) * e[i] * dt  # calculate integral term\n",
    "        D[i] = -Kc * tauD * (PV[i]-PV[i-1])/dt # calculate derivative term\n",
    "        OP[i] = P[i] + I[i] + D[i] # calculate new controller output\n",
    "        \n",
    "    # plot PID response\n",
    "    plt.figure(1,figsize=(15,7))\n",
    "    plt.subplot(2,2,1)\n",
    "    plt.plot(t,SP,'k-',linewidth=2,label='Setpoint (SP)')\n",
    "    plt.plot(t,PV,'r:',linewidth=2,label='Process Variable (PV)')\n",
    "    plt.legend(loc='best')\n",
    "    plt.subplot(2,2,2)\n",
    "    plt.plot(t,P,'g.-',linewidth=2,label=r'Proportional = $K_c \\; e(t)$')\n",
    "    plt.plot(t,I,'b-',linewidth=2,label=r'Integral = $\\frac{K_c}{\\tau_I} \\int_{i=0}^{n_t} e(t) \\; dt $')\n",
    "    plt.plot(t,D,'r--',linewidth=2,label=r'Derivative = $-K_c \\tau_D \\frac{d(PV)}{dt}$')    \n",
    "    plt.legend(loc='best')\n",
    "    plt.subplot(2,2,3)\n",
    "    plt.plot(t,e,'m--',linewidth=2,label='Error (e=SP-PV)')\n",
    "    plt.legend(loc='best')\n",
    "    plt.subplot(2,2,4)\n",
    "    plt.plot(t,OP,'b--',linewidth=2,label='Controller Output (OP)')\n",
    "    plt.legend(loc='best')\n",
    "    plt.xlabel('time')\n",
    "    \n",
    "Kc_slide = wg.FloatSlider(value=0.1,min=-0.2,max=1.0,step=0.05)\n",
    "tauI_slide = wg.FloatSlider(value=4.0,min=0.01,max=5.0,step=0.1)\n",
    "tauD_slide = wg.FloatSlider(value=0.0,min=0.0,max=1.0,step=0.1)\n",
    "wg.interact(pidPlot, Kc=Kc_slide, tauI=tauI_slide, tauD=tauD_slide)"
   ]
  },
  {
   "cell_type": "code",
   "execution_count": null,
   "id": "9d5b3b16",
   "metadata": {},
   "outputs": [],
   "source": []
  }
 ],
 "metadata": {
  "kernelspec": {
   "display_name": "Python 3 (ipykernel)",
   "language": "python",
   "name": "python3"
  },
  "language_info": {
   "codemirror_mode": {
    "name": "ipython",
    "version": 3
   },
   "file_extension": ".py",
   "mimetype": "text/x-python",
   "name": "python",
   "nbconvert_exporter": "python",
   "pygments_lexer": "ipython3",
   "version": "3.11.6"
  }
 },
 "nbformat": 4,
 "nbformat_minor": 5
}
